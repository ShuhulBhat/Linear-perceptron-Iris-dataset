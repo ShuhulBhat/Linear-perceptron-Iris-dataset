{
  "nbformat": 4,
  "nbformat_minor": 0,
  "metadata": {
    "colab": {
      "provenance": [],
      "collapsed_sections": []
    },
    "kernelspec": {
      "display_name": "Python 3",
      "name": "python3"
    }
  },
  "cells": [
    {
      "cell_type": "markdown",
      "metadata": {
        "id": "geP96qDaEzp2"
      },
      "source": [
        "**Importing necessary libraries to perform mathematical operations and load iris dataset**"
      ]
    },
    {
      "cell_type": "code",
      "metadata": {
        "id": "52PCyF2EKmaF"
      },
      "source": [
        "import matplotlib.pyplot as plt\n",
        "from sklearn.datasets import load_iris\n",
        "from sklearn.model_selection import train_test_split\n",
        "import numpy as np\n",
        "db = load_iris()\n",
        "X_total, y_total = db['data'], db['target']\n",
        "#Here we are taking only two classes for categorising - \n",
        "c0 = 0\n",
        "c1 = 1\n",
        "sub_index = np.logical_or(y_total == c0 , y_total == c1)\n",
        "X = X_total[sub_index]\n",
        "y = y_total[sub_index]\n",
        "y[y==c0] = - 1\n",
        "y[y==c1] = 1\n",
        "#split the test and training data\n",
        "X_train ,X_test,y_train,y_test = train_test_split(\n",
        "    X,y,test_size = 0.30,random_state = 42)"
      ],
      "execution_count": null,
      "outputs": []
    },
    {
      "cell_type": "markdown",
      "metadata": {
        "id": "A3fXEOC7CFdf"
      },
      "source": [
        "**Creating homogenous list to include dummy variable with value 1(k+1 dimensions)**"
      ]
    },
    {
      "cell_type": "code",
      "metadata": {
        "id": "Zq-2KiOXNEId",
        "colab": {
          "background_save": true
        }
      },
      "source": [
        "#create a homogenous variable list\n",
        "ons_ = np.ones((X_train.shape[0],1))\n",
        "X_train_homo = np.concatenate([X_train, ons_], axis = 1)\n",
        "ons_ = np.ones((X_test.shape[0],1))\n",
        "X_test_homo = np.concatenate([X_test, ons_] ,axis =1)"
      ],
      "execution_count": null,
      "outputs": []
    },
    {
      "cell_type": "code",
      "metadata": {
        "id": "Fdxqi8FYukWt",
        "outputId": "77e99a7b-fde2-4c9d-b7f6-827de9228ba3",
        "colab": {
          "background_save": true,
          "base_uri": "https://localhost:8080/",
          "height": 34
        }
      },
      "source": [
        "X_test.shape"
      ],
      "execution_count": null,
      "outputs": [
        {
          "output_type": "execute_result",
          "data": {
            "text/plain": [
              "(30, 4)"
            ]
          },
          "metadata": {
            "tags": []
          },
          "execution_count": 0
        }
      ]
    },
    {
      "cell_type": "markdown",
      "metadata": {
        "id": "OPcvKaxGuUMC"
      },
      "source": [
        "**Changed dimension to 5**"
      ]
    },
    {
      "cell_type": "code",
      "metadata": {
        "id": "lyNMBbG4uJd-",
        "outputId": "fb344871-06b4-458c-a123-cbc24178954c",
        "colab": {
          "background_save": true,
          "base_uri": "https://localhost:8080/",
          "height": 34
        }
      },
      "source": [
        "X_test_homo.shape"
      ],
      "execution_count": null,
      "outputs": [
        {
          "output_type": "execute_result",
          "data": {
            "text/plain": [
              "(30, 5)"
            ]
          },
          "metadata": {
            "tags": []
          },
          "execution_count": 0
        }
      ]
    },
    {
      "cell_type": "code",
      "metadata": {
        "id": "VefH81dePGl5",
        "outputId": "717200b4-5b67-4d13-995b-6b11503f73b2",
        "colab": {
          "background_save": true,
          "base_uri": "https://localhost:8080/",
          "height": 289
        }
      },
      "source": [
        "class MyPerceptron:\n",
        "  def __init__(self):\n",
        "      self.W = np.array([0.1,-0.5,3,-2])\n",
        "      self.b = 1.0\n",
        "       \n",
        "\n",
        "def perceptron_predict(W,X):\n",
        "  # function accepts 2 arguments W and X\n",
        "  # here W is the weight vector(5 vectors)\n",
        "  # X is an array of data with n records * 5 attributes\n",
        "  hval = (W*X).sum(axis=1)  # takes summation of all weighted attributes in an entry\n",
        "  pred = np.sign(hval)\n",
        "  return pred\n",
        "W = np.array([0.1,-0.5,3,-2,-10])\n",
        "\n",
        "while True:\n",
        "  pred = perceptron_predict(W,X_train_homo)\n",
        "  is_pred_corr = y_train ==pred # comparing if prediction is correct\n",
        "  is_pred_wrong = np.logical_not(is_pred_corr)\n",
        "\n",
        "  #indexes in the array where prediction is wrong\n",
        "  error_indexes = np.nonzero(is_pred_wrong)[0] \n",
        "\n",
        "  #measure accuracy by ratio of correct predictions and total entries\n",
        "  accu_train = np.count_nonzero(is_pred_corr) / y_train.size \n",
        "  print(f\"Training accuracy {accu_train}\")\n",
        "\n",
        "  pred_valid = perceptron_predict(W,X_test_homo)\n",
        "  accu_valid = np.count_nonzero(pred_valid == y_test) / y_test.size\n",
        "  print(f\"Validation accuracy {accu_valid}\")\n",
        "  if len(error_indexes) > 0:  # Iterate until there are no more errors left to update\n",
        "    next_i = error_indexes[0]\n",
        "    W_update = X_train_homo[next_i] * y_train[next_i] # updating in the direction of actual y\n",
        "    W += W_update # adding updates to previous weight\n",
        "  else:\n",
        "    break\n",
        "\n",
        " \n"
      ],
      "execution_count": null,
      "outputs": [
        {
          "output_type": "stream",
          "text": [
            "Training accuracy 0.6\n",
            "Validation accuracy 0.8\n",
            "Training accuracy 0.5285714285714286\n",
            "Validation accuracy 0.43333333333333335\n",
            "Training accuracy 0.5285714285714286\n",
            "Validation accuracy 0.4666666666666667\n",
            "Training accuracy 0.4714285714285714\n",
            "Validation accuracy 0.5666666666666667\n",
            "Training accuracy 0.5285714285714286\n",
            "Validation accuracy 0.43333333333333335\n",
            "Training accuracy 0.4714285714285714\n",
            "Validation accuracy 0.6333333333333333\n",
            "Training accuracy 0.5285714285714286\n",
            "Validation accuracy 0.43333333333333335\n",
            "Training accuracy 1.0\n",
            "Validation accuracy 1.0\n"
          ],
          "name": "stdout"
        }
      ]
    },
    {
      "cell_type": "markdown",
      "metadata": {
        "id": "FkjAza88KtOm"
      },
      "source": [
        "**Incorporating above functions in object**"
      ]
    },
    {
      "cell_type": "code",
      "metadata": {
        "id": "RRyTv0GxVP6J",
        "outputId": "b3dca0aa-b627-4b18-c059-ab34bd4c02eb",
        "colab": {
          "background_save": true,
          "base_uri": "https://localhost:8080/",
          "height": 85
        }
      },
      "source": [
        "MAX_ITERATIONS = 100\n",
        "class MyPerceptron:\n",
        "  def __init__(self): # constructor of object\n",
        "      self.W = np.array([0.1,-0.5,3,-2]) # assigning initial weight in an array\n",
        "      self.b = 1.0 # dummy variable value set to 1 \n",
        "\n",
        "  def predict(self,X):\n",
        "      hval = (self.W *X).sum(axis = 1)+self.b\n",
        "      pred = np.sign(hval)\n",
        "      return pred\n",
        "  def fit(self,X,y):\n",
        "      iter_num = 0\n",
        "      while True:\n",
        "          pred = perceptron_predict(W,X_train_homo)\n",
        "          is_pred_corr = y ==pred\n",
        "          is_pred_wrong = np.logical_not(is_pred_corr)\n",
        "          error_indexes = np.nonzero(is_pred_wrong)[0]\n",
        "          if len(error_indexes) > 0:\n",
        "              next_i = error_indexes[0]\n",
        "              W_update = X[next_i] * y[next_i]\n",
        "              self.W += W_update\n",
        "              self.b +=y_[next_i] # updating bias in the direction of correct value\n",
        "          else:\n",
        "            break\n",
        "          iter_num+= 1\n",
        "          if iter_num>= MAX_ITERTIONS:\n",
        "              break\n",
        "      \n",
        "          #accu_train = np.count_nonzero(is_pred_corr) / y_train.size\n",
        "          #print(f\"Training accuracy {accu_train}\")\n",
        "\n",
        "          #pred_valid = perceptron_predict(W,X_test_homo)\n",
        "          #accu_valid = np.count_nonzero(pred_valid == y_test) / y_test.size\n",
        "          #print(f\"Validation accuracy {accu_valid}\")\n",
        "          \n",
        "      \n",
        "\n",
        "percp = MyPerceptron()\n",
        "percp.fit(X_train,y_train)\n",
        "percp.predict(X_test) == y_test\n",
        "  "
      ],
      "execution_count": null,
      "outputs": [
        {
          "output_type": "execute_result",
          "data": {
            "text/plain": [
              "array([ True,  True,  True, False, False, False, False,  True, False,\n",
              "       False, False, False,  True, False,  True, False,  True,  True,\n",
              "       False, False,  True,  True, False, False,  True, False, False,\n",
              "        True, False,  True])"
            ]
          },
          "metadata": {
            "tags": []
          },
          "execution_count": 0
        }
      ]
    },
    {
      "cell_type": "code",
      "metadata": {
        "id": "v_gLgiroMkeR",
        "colab": {
          "background_save": true
        }
      },
      "source": [
        "from sklearn.linear_model import Perceptron\n",
        "\n",
        "skpercp = Perceptron()"
      ],
      "execution_count": null,
      "outputs": []
    },
    {
      "cell_type": "code",
      "metadata": {
        "id": "mQ3mWlSFMwgY",
        "outputId": "30e5b617-a6a0-46f0-f093-a88f07e1eafe",
        "colab": {
          "background_save": true,
          "base_uri": "https://localhost:8080/",
          "height": 85
        }
      },
      "source": [
        "skpercp.fit(X_train, y_train) # perceptron created"
      ],
      "execution_count": null,
      "outputs": [
        {
          "output_type": "execute_result",
          "data": {
            "text/plain": [
              "Perceptron(alpha=0.0001, class_weight=None, early_stopping=False, eta0=1.0,\n",
              "           fit_intercept=True, max_iter=1000, n_iter_no_change=5, n_jobs=None,\n",
              "           penalty=None, random_state=0, shuffle=True, tol=0.001,\n",
              "           validation_fraction=0.1, verbose=0, warm_start=False)"
            ]
          },
          "metadata": {
            "tags": []
          },
          "execution_count": 0
        }
      ]
    },
    {
      "cell_type": "code",
      "metadata": {
        "id": "Cpzrh0a7M5DE",
        "outputId": "65b1e9e3-c3f0-48cd-bf27-215c20782f13",
        "colab": {
          "background_save": true,
          "base_uri": "https://localhost:8080/",
          "height": 85
        }
      },
      "source": [
        "skpercp.predict(X_test) ==y_test"
      ],
      "execution_count": null,
      "outputs": [
        {
          "output_type": "execute_result",
          "data": {
            "text/plain": [
              "array([ True,  True,  True,  True,  True,  True,  True,  True,  True,\n",
              "        True,  True,  True,  True,  True,  True,  True,  True,  True,\n",
              "        True,  True,  True,  True,  True,  True,  True,  True,  True,\n",
              "        True,  True,  True])"
            ]
          },
          "metadata": {
            "tags": []
          },
          "execution_count": 0
        }
      ]
    },
    {
      "cell_type": "code",
      "metadata": {
        "id": "wwGdqZESNBJ4",
        "colab": {
          "background_save": true
        }
      },
      "source": [
        "Perceptron?"
      ],
      "execution_count": null,
      "outputs": []
    },
    {
      "cell_type": "code",
      "source": [
        "a =[{1,2,4},{44,7,8}]\n",
        "print(a)"
      ],
      "metadata": {
        "colab": {
          "base_uri": "https://localhost:8080/"
        },
        "id": "6q48lPz_GU9W",
        "outputId": "2e7d7ce5-d023-4c66-edfa-9a5deb84847d"
      },
      "execution_count": 1,
      "outputs": [
        {
          "output_type": "stream",
          "name": "stdout",
          "text": [
            "[{1, 2, 4}, {8, 44, 7}]\n"
          ]
        }
      ]
    },
    {
      "cell_type": "code",
      "source": [
        "a = set(1,3,5)\n",
        "b = set(9,7,6)\n",
        "c = a+b\n",
        "print(c)"
      ],
      "metadata": {
        "colab": {
          "base_uri": "https://localhost:8080/",
          "height": 222
        },
        "id": "JjXMtGOxGqaL",
        "outputId": "9b65db76-713c-4e9b-f633-2d58a00fafbb"
      },
      "execution_count": 2,
      "outputs": [
        {
          "output_type": "error",
          "ename": "TypeError",
          "evalue": "ignored",
          "traceback": [
            "\u001b[0;31m---------------------------------------------------------------------------\u001b[0m",
            "\u001b[0;31mTypeError\u001b[0m                                 Traceback (most recent call last)",
            "\u001b[0;32m<ipython-input-2-adec06109895>\u001b[0m in \u001b[0;36m<module>\u001b[0;34m\u001b[0m\n\u001b[0;32m----> 1\u001b[0;31m \u001b[0ma\u001b[0m \u001b[0;34m=\u001b[0m \u001b[0mset\u001b[0m\u001b[0;34m(\u001b[0m\u001b[0;36m1\u001b[0m\u001b[0;34m,\u001b[0m\u001b[0;36m3\u001b[0m\u001b[0;34m,\u001b[0m\u001b[0;36m5\u001b[0m\u001b[0;34m)\u001b[0m\u001b[0;34m\u001b[0m\u001b[0;34m\u001b[0m\u001b[0m\n\u001b[0m\u001b[1;32m      2\u001b[0m \u001b[0mb\u001b[0m \u001b[0;34m=\u001b[0m \u001b[0mset\u001b[0m\u001b[0;34m(\u001b[0m\u001b[0;36m9\u001b[0m\u001b[0;34m,\u001b[0m\u001b[0;36m7\u001b[0m\u001b[0;34m,\u001b[0m\u001b[0;36m6\u001b[0m\u001b[0;34m)\u001b[0m\u001b[0;34m\u001b[0m\u001b[0;34m\u001b[0m\u001b[0m\n\u001b[1;32m      3\u001b[0m \u001b[0mc\u001b[0m \u001b[0;34m=\u001b[0m \u001b[0ma\u001b[0m\u001b[0;34m+\u001b[0m\u001b[0mb\u001b[0m\u001b[0;34m\u001b[0m\u001b[0;34m\u001b[0m\u001b[0m\n\u001b[1;32m      4\u001b[0m \u001b[0mprint\u001b[0m\u001b[0;34m(\u001b[0m\u001b[0mc\u001b[0m\u001b[0;34m)\u001b[0m\u001b[0;34m\u001b[0m\u001b[0;34m\u001b[0m\u001b[0m\n",
            "\u001b[0;31mTypeError\u001b[0m: set expected at most 1 arguments, got 3"
          ]
        }
      ]
    },
    {
      "cell_type": "code",
      "source": [
        "a =\"bubbles\"\n",
        "b= set(a)\n",
        "print(b)\n",
        "for i in b:\n",
        "  print(i)"
      ],
      "metadata": {
        "colab": {
          "base_uri": "https://localhost:8080/"
        },
        "id": "J_WccQf0HOkE",
        "outputId": "9525a174-5764-42ce-bc78-4685a93f3d3b"
      },
      "execution_count": 6,
      "outputs": [
        {
          "output_type": "stream",
          "name": "stdout",
          "text": [
            "{'l', 'e', 'b', 'u', 's'}\n",
            "l\n",
            "e\n",
            "b\n",
            "u\n",
            "s\n"
          ]
        }
      ]
    },
    {
      "cell_type": "code",
      "source": [
        "a =(1,3,5,7)\n",
        "a.index(3)"
      ],
      "metadata": {
        "colab": {
          "base_uri": "https://localhost:8080/"
        },
        "id": "VPqoNnfh_6g_",
        "outputId": "8e38a2b8-a11f-4263-be65-4d360a2d0346"
      },
      "execution_count": 2,
      "outputs": [
        {
          "output_type": "execute_result",
          "data": {
            "text/plain": [
              "1"
            ]
          },
          "metadata": {},
          "execution_count": 2
        }
      ]
    },
    {
      "cell_type": "code",
      "source": [
        "def odd_even_split_tuple(tup):\n",
        "    ''' input:tup-indicates the tuple\n",
        "         output:print two tuples one for even indexed and odd indexed in the given output format'''\n",
        "    \n",
        "    odd =[]\n",
        "    even = []\n",
        "    for i in range(len(tup)):\n",
        "        if i%2!=0:\n",
        "            odd.append(tup(i))\n",
        "        else:\n",
        "            even.append(tup(i)\n",
        "    t = \n",
        "t =(4,8,9,7,5,2)\n",
        "odd_even_split_tuple(t)\n"
      ],
      "metadata": {
        "colab": {
          "base_uri": "https://localhost:8080/",
          "height": 133
        },
        "id": "w--dvWJEHEEX",
        "outputId": "ed1df094-e862-4375-d54f-7b5ae4fe07dc"
      },
      "execution_count": 10,
      "outputs": [
        {
          "output_type": "error",
          "ename": "SyntaxError",
          "evalue": "ignored",
          "traceback": [
            "\u001b[0;36m  File \u001b[0;32m\"<ipython-input-10-3d4bb82cac50>\"\u001b[0;36m, line \u001b[0;32m12\u001b[0m\n\u001b[0;31m    return odd,even\u001b[0m\n\u001b[0m         ^\u001b[0m\n\u001b[0;31mSyntaxError\u001b[0m\u001b[0;31m:\u001b[0m invalid syntax\n"
          ]
        }
      ]
    },
    {
      "cell_type": "code",
      "source": [
        "def odd_even_split_tuple(tup):\n",
        "    ''' input:tup-indicates the tuple\n",
        "         output:print two tuples one for even indexed and odd indexed in the given output format'''\n",
        "    \n",
        "    odd =[]\n",
        "    even = []\n",
        "    for i in tup:\n",
        "        if tup.index(i)%2!=0:\n",
        "            odd.append(i)\n",
        "        else:\n",
        "            even.append(i)\n",
        "    return tuple(odd),tuple(even)\n",
        "    \n",
        "t = (4,6,7,8,4,6)\n",
        "odd_even_split_tuple(t)"
      ],
      "metadata": {
        "colab": {
          "base_uri": "https://localhost:8080/"
        },
        "id": "yhfQmZBogX6V",
        "outputId": "cde6d1ad-559e-4f6c-f47c-2791b5553051"
      },
      "execution_count": 12,
      "outputs": [
        {
          "output_type": "execute_result",
          "data": {
            "text/plain": [
              "((6, 8, 6), (4, 7, 4))"
            ]
          },
          "metadata": {},
          "execution_count": 12
        }
      ]
    },
    {
      "cell_type": "code",
      "source": [
        "def unique_count(tup):\n",
        "    \n",
        "    \n",
        "    a =[]\n",
        "    for i in tup:\n",
        "        if tup.count(i) == 1:\n",
        "            a.append(i)\n",
        "        # print(tup.count(i))\n",
        "    print(a)\n",
        "  "
      ],
      "metadata": {
        "id": "bp63hAu4kkZs"
      },
      "execution_count": null,
      "outputs": []
    }
  ]
}